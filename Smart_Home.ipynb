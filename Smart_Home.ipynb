{
  "nbformat": 4,
  "nbformat_minor": 0,
  "metadata": {
    "colab": {
      "name": "Smart Home",
      "provenance": [],
      "collapsed_sections": [],
      "authorship_tag": "ABX9TyMbFYjPSWbqfklNUECkmEGl",
      "include_colab_link": true
    },
    "kernelspec": {
      "display_name": "Python 3",
      "name": "python3"
    }
  },
  "cells": [
    {
      "cell_type": "markdown",
      "metadata": {
        "id": "view-in-github",
        "colab_type": "text"
      },
      "source": [
        "<a href=\"https://colab.research.google.com/github/cira037/jupy-graph/blob/main/Smart_Home.ipynb\" target=\"_parent\"><img src=\"https://colab.research.google.com/assets/colab-badge.svg\" alt=\"Open In Colab\"/></a>"
      ]
    },
    {
      "cell_type": "markdown",
      "metadata": {
        "id": "WhwYRzQAMSFT"
      },
      "source": [
        "INSTALACIJA"
      ]
    },
    {
      "cell_type": "code",
      "metadata": {
        "id": "J4ZvwWd9ISYG",
        "colab": {
          "base_uri": "https://localhost:8080/"
        },
        "outputId": "83e1faf0-4be3-4b49-b5d2-e18182ae3085"
      },
      "source": [
        " \n",
        "%pip install git+https://github.com/jupyterhub/binderhub\n",
        "!apt install libgraphviz-dev \n",
        "!apt install pkg-config\n",
        "!apt install python-dev\n",
        "# !apt install d3-graphviz\n",
        "# !apt install dash"
      ],
      "execution_count": 107,
      "outputs": [
        {
          "output_type": "stream",
          "text": [
            "Collecting git+https://github.com/jupyterhub/binderhub\n",
            "  Cloning https://github.com/jupyterhub/binderhub to /tmp/pip-req-build-cf61n4qn\n",
            "  Running command git clone -q https://github.com/jupyterhub/binderhub /tmp/pip-req-build-cf61n4qn\n",
            "Collecting docker\n",
            "\u001b[?25l  Downloading https://files.pythonhosted.org/packages/9f/a5/eec74d8d1016e6c2042ba31ca6fba3bba520e27d8a061e82bccd36bd64ef/docker-4.4.1-py2.py3-none-any.whl (146kB)\n",
            "\u001b[K     |████████████████████████████████| 153kB 4.3MB/s \n",
            "\u001b[?25hCollecting escapism\n",
            "  Downloading https://files.pythonhosted.org/packages/fa/d2/b68857f1f98678ce5cd01edc2e7082f1124760373d610fc01fa6da1ee757/escapism-1.0.1-py2.py3-none-any.whl\n",
            "Requirement already satisfied: jinja2 in /usr/local/lib/python3.6/dist-packages (from binderhub==0.2.0+465.gb35ec4e) (2.11.2)\n",
            "Requirement already satisfied: jsonschema in /usr/local/lib/python3.6/dist-packages (from binderhub==0.2.0+465.gb35ec4e) (2.6.0)\n",
            "Collecting jupyterhub\n",
            "\u001b[?25l  Downloading https://files.pythonhosted.org/packages/18/ab/e1bd7a04a9a1106cfdc90c80d4546fef0ea4d1412fd3e4ca336fc8ff199d/jupyterhub-1.3.0-py3-none-any.whl (3.6MB)\n",
            "\u001b[K     |████████████████████████████████| 3.6MB 5.8MB/s \n",
            "\u001b[?25hCollecting kubernetes\n",
            "\u001b[?25l  Downloading https://files.pythonhosted.org/packages/50/55/84aaadb5f8b4d2641f28eb7373feb610f4b609cc9cf223bcd494fd66a647/kubernetes-12.0.1-py2.py3-none-any.whl (1.7MB)\n",
            "\u001b[K     |████████████████████████████████| 1.8MB 35.5MB/s \n",
            "\u001b[?25hRequirement already satisfied: prometheus_client in /usr/local/lib/python3.6/dist-packages (from binderhub==0.2.0+465.gb35ec4e) (0.9.0)\n",
            "Collecting python-json-logger\n",
            "  Downloading https://files.pythonhosted.org/packages/bd/95/ccbae460a4db2610b8d2635b5f1e7ed146fb771f4ef47ef20a1f216f9b78/python-json-logger-2.0.1.tar.gz\n",
            "Requirement already satisfied: tornado>=5.1 in /usr/local/lib/python3.6/dist-packages (from binderhub==0.2.0+465.gb35ec4e) (5.1.1)\n",
            "Requirement already satisfied: traitlets in /usr/local/lib/python3.6/dist-packages (from binderhub==0.2.0+465.gb35ec4e) (4.3.3)\n",
            "Collecting pycurl\n",
            "\u001b[?25l  Downloading https://files.pythonhosted.org/packages/50/1a/35b1d8b8e4e23a234f1b17a8a40299fd550940b16866c9a1f2d47a04b969/pycurl-7.43.0.6.tar.gz (222kB)\n",
            "\u001b[K     |████████████████████████████████| 225kB 29.5MB/s \n",
            "\u001b[?25hRequirement already satisfied: requests!=2.18.0,>=2.14.2 in /usr/local/lib/python3.6/dist-packages (from docker->binderhub==0.2.0+465.gb35ec4e) (2.23.0)\n",
            "Collecting websocket-client>=0.32.0\n",
            "\u001b[?25l  Downloading https://files.pythonhosted.org/packages/4c/5f/f61b420143ed1c8dc69f9eaec5ff1ac36109d52c80de49d66e0c36c3dfdf/websocket_client-0.57.0-py2.py3-none-any.whl (200kB)\n",
            "\u001b[K     |████████████████████████████████| 204kB 47.4MB/s \n",
            "\u001b[?25hRequirement already satisfied: six>=1.4.0 in /usr/local/lib/python3.6/dist-packages (from docker->binderhub==0.2.0+465.gb35ec4e) (1.15.0)\n",
            "Requirement already satisfied: MarkupSafe>=0.23 in /usr/local/lib/python3.6/dist-packages (from jinja2->binderhub==0.2.0+465.gb35ec4e) (1.1.1)\n",
            "Collecting jupyter-telemetry>=0.1.0\n",
            "  Downloading https://files.pythonhosted.org/packages/90/ab/8d565a0797dacf82dea161ba5c40bd1f3ddbf365e3f7f8fd63007f03b19f/jupyter_telemetry-0.1.0-py3-none-any.whl\n",
            "Requirement already satisfied: SQLAlchemy>=1.1 in /usr/local/lib/python3.6/dist-packages (from jupyterhub->binderhub==0.2.0+465.gb35ec4e) (1.3.20)\n",
            "Collecting certipy>=0.1.2\n",
            "  Downloading https://files.pythonhosted.org/packages/4e/c4/02194a623c03547306c5edfb6b1c0fadaa35ad7fdc2a93b2c1e5e86afc51/certipy-0.1.3-py3-none-any.whl\n",
            "Collecting alembic\n",
            "\u001b[?25l  Downloading https://files.pythonhosted.org/packages/12/aa/c261dfd7f4ba6ce4701846a2689a46e2a172e012171de4378fc2926e3bf0/alembic-1.4.3-py2.py3-none-any.whl (159kB)\n",
            "\u001b[K     |████████████████████████████████| 163kB 33.5MB/s \n",
            "\u001b[?25hRequirement already satisfied: entrypoints in /usr/local/lib/python3.6/dist-packages (from jupyterhub->binderhub==0.2.0+465.gb35ec4e) (0.3)\n",
            "Requirement already satisfied: oauthlib>=3.0 in /usr/local/lib/python3.6/dist-packages (from jupyterhub->binderhub==0.2.0+465.gb35ec4e) (3.1.0)\n",
            "Requirement already satisfied: python-dateutil in /usr/local/lib/python3.6/dist-packages (from jupyterhub->binderhub==0.2.0+465.gb35ec4e) (2.8.1)\n",
            "Collecting pamela; sys_platform != \"win32\"\n",
            "  Downloading https://files.pythonhosted.org/packages/9c/b8/f7592a30aa95ffdea4f2e01aca87c15a7a315ba34f835235291eeba22779/pamela-1.0.0-py2.py3-none-any.whl\n",
            "Requirement already satisfied: async-generator>=1.9 in /usr/local/lib/python3.6/dist-packages (from jupyterhub->binderhub==0.2.0+465.gb35ec4e) (1.10)\n",
            "Requirement already satisfied: urllib3>=1.24.2 in /usr/local/lib/python3.6/dist-packages (from kubernetes->binderhub==0.2.0+465.gb35ec4e) (1.24.3)\n",
            "Requirement already satisfied: setuptools>=21.0.0 in /usr/local/lib/python3.6/dist-packages (from kubernetes->binderhub==0.2.0+465.gb35ec4e) (51.0.0)\n",
            "Requirement already satisfied: certifi>=14.05.14 in /usr/local/lib/python3.6/dist-packages (from kubernetes->binderhub==0.2.0+465.gb35ec4e) (2020.12.5)\n",
            "Requirement already satisfied: google-auth>=1.0.1 in /usr/local/lib/python3.6/dist-packages (from kubernetes->binderhub==0.2.0+465.gb35ec4e) (1.17.2)\n",
            "Requirement already satisfied: pyyaml>=3.12 in /usr/local/lib/python3.6/dist-packages (from kubernetes->binderhub==0.2.0+465.gb35ec4e) (3.13)\n",
            "Requirement already satisfied: requests-oauthlib in /usr/local/lib/python3.6/dist-packages (from kubernetes->binderhub==0.2.0+465.gb35ec4e) (1.3.0)\n",
            "Requirement already satisfied: ipython-genutils in /usr/local/lib/python3.6/dist-packages (from traitlets->binderhub==0.2.0+465.gb35ec4e) (0.2.0)\n",
            "Requirement already satisfied: decorator in /usr/local/lib/python3.6/dist-packages (from traitlets->binderhub==0.2.0+465.gb35ec4e) (4.4.2)\n",
            "Requirement already satisfied: idna<3,>=2.5 in /usr/local/lib/python3.6/dist-packages (from requests!=2.18.0,>=2.14.2->docker->binderhub==0.2.0+465.gb35ec4e) (2.10)\n",
            "Requirement already satisfied: chardet<4,>=3.0.2 in /usr/local/lib/python3.6/dist-packages (from requests!=2.18.0,>=2.14.2->docker->binderhub==0.2.0+465.gb35ec4e) (3.0.4)\n",
            "Collecting ruamel.yaml\n",
            "\u001b[?25l  Downloading https://files.pythonhosted.org/packages/7e/39/186f14f3836ac5d2a6a042c8de69988770e8b9abb537610edc429e4914aa/ruamel.yaml-0.16.12-py2.py3-none-any.whl (111kB)\n",
            "\u001b[K     |████████████████████████████████| 112kB 49.6MB/s \n",
            "\u001b[?25hCollecting pyopenssl\n",
            "\u001b[?25l  Downloading https://files.pythonhosted.org/packages/b2/5e/06351ede29fd4899782ad335c2e02f1f862a887c20a3541f17c3fa1a3525/pyOpenSSL-20.0.1-py2.py3-none-any.whl (54kB)\n",
            "\u001b[K     |████████████████████████████████| 61kB 8.9MB/s \n",
            "\u001b[?25hCollecting python-editor>=0.3\n",
            "  Downloading https://files.pythonhosted.org/packages/c6/d3/201fc3abe391bbae6606e6f1d598c15d367033332bd54352b12f35513717/python_editor-1.0.4-py3-none-any.whl\n",
            "Collecting Mako\n",
            "\u001b[?25l  Downloading https://files.pythonhosted.org/packages/a6/37/0e706200d22172eb8fa17d68a7ae22dec7631a0a92266634fb518a88a5b2/Mako-1.1.3-py2.py3-none-any.whl (75kB)\n",
            "\u001b[K     |████████████████████████████████| 81kB 11.5MB/s \n",
            "\u001b[?25hRequirement already satisfied: cachetools<5.0,>=2.0.0 in /usr/local/lib/python3.6/dist-packages (from google-auth>=1.0.1->kubernetes->binderhub==0.2.0+465.gb35ec4e) (4.2.0)\n",
            "Requirement already satisfied: pyasn1-modules>=0.2.1 in /usr/local/lib/python3.6/dist-packages (from google-auth>=1.0.1->kubernetes->binderhub==0.2.0+465.gb35ec4e) (0.2.8)\n",
            "Requirement already satisfied: rsa<5,>=3.1.4; python_version >= \"3\" in /usr/local/lib/python3.6/dist-packages (from google-auth>=1.0.1->kubernetes->binderhub==0.2.0+465.gb35ec4e) (4.6)\n",
            "Collecting ruamel.yaml.clib>=0.1.2; platform_python_implementation == \"CPython\" and python_version < \"3.9\"\n",
            "\u001b[?25l  Downloading https://files.pythonhosted.org/packages/88/ff/ec25dc01ef04232a9e68ff18492e37dfa01f1f58172e702ad4f38536d41b/ruamel.yaml.clib-0.2.2-cp36-cp36m-manylinux1_x86_64.whl (549kB)\n",
            "\u001b[K     |████████████████████████████████| 552kB 39.7MB/s \n",
            "\u001b[?25hCollecting cryptography>=3.2\n",
            "\u001b[?25l  Downloading https://files.pythonhosted.org/packages/c9/de/7054df0620b5411ba45480f0261e1fb66a53f3db31b28e3aa52c026e72d9/cryptography-3.3.1-cp36-abi3-manylinux2010_x86_64.whl (2.6MB)\n",
            "\u001b[K     |████████████████████████████████| 2.6MB 49.8MB/s \n",
            "\u001b[?25hRequirement already satisfied: pyasn1<0.5.0,>=0.4.6 in /usr/local/lib/python3.6/dist-packages (from pyasn1-modules>=0.2.1->google-auth>=1.0.1->kubernetes->binderhub==0.2.0+465.gb35ec4e) (0.4.8)\n",
            "Requirement already satisfied: cffi>=1.12 in /usr/local/lib/python3.6/dist-packages (from cryptography>=3.2->pyopenssl->certipy>=0.1.2->jupyterhub->binderhub==0.2.0+465.gb35ec4e) (1.14.4)\n",
            "Requirement already satisfied: pycparser in /usr/local/lib/python3.6/dist-packages (from cffi>=1.12->cryptography>=3.2->pyopenssl->certipy>=0.1.2->jupyterhub->binderhub==0.2.0+465.gb35ec4e) (2.20)\n",
            "Building wheels for collected packages: binderhub, python-json-logger, pycurl\n",
            "  Building wheel for binderhub (setup.py) ... \u001b[?25l\u001b[?25hdone\n",
            "  Created wheel for binderhub: filename=binderhub-0.2.0+465.gb35ec4e-cp36-none-any.whl size=1673461 sha256=86e6b6caa7621eaa90e6158b2ade90b773147e4f1de27f324527b756b8d651fc\n",
            "  Stored in directory: /tmp/pip-ephem-wheel-cache-_zsyhbbf/wheels/58/ba/5f/88865c45ec948e54e827f881710165cebda5f4f7aa69c8a392\n",
            "  Building wheel for python-json-logger (setup.py) ... \u001b[?25l\u001b[?25hdone\n",
            "  Created wheel for python-json-logger: filename=python_json_logger-2.0.1-cp36-none-any.whl size=7375 sha256=96ea0f50408f1dd77218e11a6306fb41c5b4ea8d179d01ea2a39e75941b82cf7\n",
            "  Stored in directory: /root/.cache/pip/wheels/59/fe/d0/53a8a9f614e3d7b7b8025fac655abd7a8bf86e0980c9956030\n",
            "  Building wheel for pycurl (setup.py) ... \u001b[?25l\u001b[?25hdone\n",
            "  Created wheel for pycurl: filename=pycurl-7.43.0.6-cp36-cp36m-linux_x86_64.whl size=284349 sha256=ab70e659560f4487c055988393ebe1a56a6c4de02705eac23f577d77bc5279f6\n",
            "  Stored in directory: /root/.cache/pip/wheels/d9/a1/7b/2894883fd5c69a3ba684a49d255466d1e924b3cf58cedc1ade\n",
            "Successfully built binderhub python-json-logger pycurl\n",
            "Installing collected packages: websocket-client, docker, escapism, python-json-logger, ruamel.yaml.clib, ruamel.yaml, jupyter-telemetry, cryptography, pyopenssl, certipy, python-editor, Mako, alembic, pamela, jupyterhub, kubernetes, pycurl, binderhub\n",
            "Successfully installed Mako-1.1.3 alembic-1.4.3 binderhub-0.2.0+465.gb35ec4e certipy-0.1.3 cryptography-3.3.1 docker-4.4.1 escapism-1.0.1 jupyter-telemetry-0.1.0 jupyterhub-1.3.0 kubernetes-12.0.1 pamela-1.0.0 pycurl-7.43.0.6 pyopenssl-20.0.1 python-editor-1.0.4 python-json-logger-2.0.1 ruamel.yaml-0.16.12 ruamel.yaml.clib-0.2.2 websocket-client-0.57.0\n",
            "Reading package lists... Done\n",
            "Building dependency tree       \n",
            "Reading state information... Done\n",
            "libgraphviz-dev is already the newest version (2.40.1-2).\n",
            "0 upgraded, 0 newly installed, 0 to remove and 15 not upgraded.\n",
            "Reading package lists... Done\n",
            "Building dependency tree       \n",
            "Reading state information... Done\n",
            "pkg-config is already the newest version (0.29.1-0ubuntu2).\n",
            "0 upgraded, 0 newly installed, 0 to remove and 15 not upgraded.\n",
            "Reading package lists... Done\n",
            "Building dependency tree       \n",
            "Reading state information... Done\n",
            "python-dev is already the newest version (2.7.15~rc1-1).\n",
            "0 upgraded, 0 newly installed, 0 to remove and 15 not upgraded.\n"
          ],
          "name": "stdout"
        }
      ]
    },
    {
      "cell_type": "code",
      "metadata": {
        "colab": {
          "base_uri": "https://localhost:8080/"
        },
        "id": "Tk1rDKYp7pSs",
        "outputId": "cf6753a3-06c5-4967-8d90-1f7b37ad5691"
      },
      "source": [
        " \n",
        "%pip install networkx pydot graphviz\n",
        "%pip install pydotplus\n",
        "%pip install pygraphviz\n",
        "%pip install pydot\n",
        "%pip install dash\n",
        "%pip install dash-interactive-graphviz"
      ],
      "execution_count": 106,
      "outputs": [
        {
          "output_type": "stream",
          "text": [
            "Requirement already satisfied: networkx in /usr/local/lib/python3.6/dist-packages (2.5)\n",
            "Requirement already satisfied: pydot in /usr/local/lib/python3.6/dist-packages (1.3.0)\n",
            "Requirement already satisfied: graphviz in /usr/local/lib/python3.6/dist-packages (0.10.1)\n",
            "Requirement already satisfied: decorator>=4.3.0 in /usr/local/lib/python3.6/dist-packages (from networkx) (4.4.2)\n",
            "Requirement already satisfied: pyparsing>=2.1.4 in /usr/local/lib/python3.6/dist-packages (from pydot) (2.4.7)\n",
            "Requirement already satisfied: pydotplus in /usr/local/lib/python3.6/dist-packages (2.0.2)\n",
            "Requirement already satisfied: pyparsing>=2.0.1 in /usr/local/lib/python3.6/dist-packages (from pydotplus) (2.4.7)\n",
            "Requirement already satisfied: pygraphviz in /usr/local/lib/python3.6/dist-packages (1.6)\n",
            "Requirement already satisfied: pydot in /usr/local/lib/python3.6/dist-packages (1.3.0)\n",
            "Requirement already satisfied: pyparsing>=2.1.4 in /usr/local/lib/python3.6/dist-packages (from pydot) (2.4.7)\n",
            "Requirement already satisfied: dash in /usr/local/lib/python3.6/dist-packages (1.18.1)\n",
            "Requirement already satisfied: dash-table==4.11.1 in /usr/local/lib/python3.6/dist-packages (from dash) (4.11.1)\n",
            "Requirement already satisfied: dash-html-components==1.1.1 in /usr/local/lib/python3.6/dist-packages (from dash) (1.1.1)\n",
            "Requirement already satisfied: future in /usr/local/lib/python3.6/dist-packages (from dash) (0.16.0)\n",
            "Requirement already satisfied: dash-renderer==1.8.3 in /usr/local/lib/python3.6/dist-packages (from dash) (1.8.3)\n",
            "Requirement already satisfied: flask-compress in /usr/local/lib/python3.6/dist-packages (from dash) (1.8.0)\n",
            "Requirement already satisfied: Flask>=1.0.4 in /usr/local/lib/python3.6/dist-packages (from dash) (1.1.2)\n",
            "Requirement already satisfied: plotly in /usr/local/lib/python3.6/dist-packages (from dash) (4.4.1)\n",
            "Requirement already satisfied: dash-core-components==1.14.1 in /usr/local/lib/python3.6/dist-packages (from dash) (1.14.1)\n",
            "Requirement already satisfied: brotli in /usr/local/lib/python3.6/dist-packages (from flask-compress->dash) (1.0.9)\n",
            "Requirement already satisfied: itsdangerous>=0.24 in /usr/local/lib/python3.6/dist-packages (from Flask>=1.0.4->dash) (1.1.0)\n",
            "Requirement already satisfied: click>=5.1 in /usr/local/lib/python3.6/dist-packages (from Flask>=1.0.4->dash) (7.1.2)\n",
            "Requirement already satisfied: Jinja2>=2.10.1 in /usr/local/lib/python3.6/dist-packages (from Flask>=1.0.4->dash) (2.11.2)\n",
            "Requirement already satisfied: Werkzeug>=0.15 in /usr/local/lib/python3.6/dist-packages (from Flask>=1.0.4->dash) (1.0.1)\n",
            "Requirement already satisfied: retrying>=1.3.3 in /usr/local/lib/python3.6/dist-packages (from plotly->dash) (1.3.3)\n",
            "Requirement already satisfied: six in /usr/local/lib/python3.6/dist-packages (from plotly->dash) (1.15.0)\n",
            "Requirement already satisfied: MarkupSafe>=0.23 in /usr/local/lib/python3.6/dist-packages (from Jinja2>=2.10.1->Flask>=1.0.4->dash) (1.1.1)\n",
            "Requirement already satisfied: dash-interactive-graphviz in /usr/local/lib/python3.6/dist-packages (0.2.1)\n"
          ],
          "name": "stdout"
        }
      ]
    },
    {
      "cell_type": "markdown",
      "metadata": {
        "id": "SRf8DEQYaddV"
      },
      "source": [
        " IMPORTOVANJE"
      ]
    },
    {
      "cell_type": "code",
      "metadata": {
        "id": "R2D91RaGIw3B"
      },
      "source": [
        " \n",
        "from pprint import pprint as pp\n",
        "import networkx as nx\n",
        "from networkx.drawing.nx_pydot import write_dot\n",
        "import graphviz as gv\n",
        "from graphviz import Digraph as dg\n",
        "import pydot as dot\n",
        "import matplotlib.pyplot as plt\n",
        "import dash_interactive_graphviz as ding"
      ],
      "execution_count": null,
      "outputs": []
    },
    {
      "cell_type": "markdown",
      "metadata": {
        "id": "Cr1ZCV88UqE4"
      },
      "source": [
        " IOT SPISAK"
      ]
    },
    {
      "cell_type": "code",
      "metadata": {
        "id": "0afVJqcpMNsa"
      },
      "source": [
        " \n",
        " \n",
        "# WiFi\n",
        "ruteri = ['r_telekom','r_stan','r_gara','r_cila']\n",
        "habovi = ['h_stan','h_gara','h_cila']\n",
        "antene = ['a_A','a_B']\n",
        "ripiteri = ['ri_gara', 'ri_xiaomi']\n",
        " \n",
        "# SVETLA\n",
        "sijalice = ['s_stan1', 's_stan2', 's_stan3', 's_gara', 's_cila']\n",
        "lampe = ['l_stan']\n",
        " \n",
        "# TAJMERI\n",
        "tajmeri = ['t_gara', 't_cila_TA', 't_cila']\n",
        "utik = ['u_gara']\n",
        " \n",
        "# KAMERE\n",
        "kamere = ['k_stan', 'k_gara', 'k_cila']\n",
        " \n",
        "# PREKIDAČI\n",
        "prekid = ['pr_kocka', 'pr_stan', 'pr_gara']\n",
        " \n",
        "# SENZORI\n",
        "meteo = ['m_stan', 'mo_stan', 'm_terasa', 'm_gara', 'm_cila1', 'm_cila2'] # 'm_okrugli'\n",
        "otvor = ['o_stan', 'o_gara', 'o_cila']\n",
        "vibra = ['v_gara', 'v_cila']\n",
        "pokret = ['p_gara']\n",
        "dim = ['d_stan', 'd_cila']\n",
        "voda = ['vo_stan']\n",
        "senzori = (*meteo, *otvor, *vibra, *pokret, *dim, *voda)\n",
        "\n",
        "# PO LOKACIJI\n",
        "stan = ['r_telekom', 'r_stan', 'h_stan', 'a_A', 'ri_xiaomi', 's_stan1','s_stan2',\n",
        "        's_stan3', 'l_stan', 'k_stan', 'pr_kocka', 'pr_stan', 'm_stan', 'mo_stan',\n",
        "        'm_terasa', 'o_stan','d_stan', 'vo_stan']\n",
        "gara = ['r_gara', 'h_gara' ,'a_B', 'ri_gara', 's_gara', 't_gara', 'u_gara',\n",
        "        'k_gara', 'pr_gara', 'm_gara', 'o_gara', 'v_gara', 'p_gara']\n",
        "cila = ['r_cila', 'h_cila', 's_cila', 't_cila_TA', 't_cila', 'k_cila', \n",
        "        'm_cila1', 'm_cila2', 'o_cila', 'v_cila', 'd_cila']"
      ],
      "execution_count": null,
      "outputs": []
    },
    {
      "cell_type": "markdown",
      "metadata": {
        "id": "BYUyGl9pYWYC"
      },
      "source": [
        "PRAVLJENJE GRAFOVA"
      ]
    },
    {
      "cell_type": "code",
      "metadata": {
        "id": "v6_eBMhgJY1U"
      },
      "source": [
        "# GRAFOVI WIFI\n",
        "G_ruter = nx.MultiGraph()\n",
        "G_ruter.add_nodes_from(ruteri, shape=\"circle\", size=10, weight=0.5, color=\"blue\")\n",
        " \n",
        "G_hab = nx.MultiGraph()\n",
        "G_hab.add_nodes_from(habovi, shape=\"circle\", size=10, weight=0.5, color=\"blue\")\n",
        " \n",
        "G_ant = nx.MultiGraph()\n",
        "G_ant.add_nodes_from(antene, shape=\"circle\", size=10, weight=0.5, color=\"blue\")\n",
        " \n",
        "G_ripit = nx.MultiGraph()\n",
        "G_ripit.add_nodes_from(ripiteri, shape=\"circle\", size=10, weight=0.5, color=\"blue\")\n",
        " \n",
        "G_wifi =nx.compose_all([G_ruter, G_hab, G_ant, G_ripit])\n",
        " \n",
        "# GRAFOVI SVETLA\n",
        "G_sijal = nx.MultiGraph()\n",
        "G_sijal.add_nodes_from(sijalice, shape=\"circle\", size=10, weight=0.5, color=\"blue\")\n",
        " \n",
        "G_lampe = nx.MultiGraph()\n",
        "G_lampe.add_nodes_from(lampe, shape=\"circle\", size=10, weight=0.5, color=\"blue\")\n",
        " \n",
        "G_svetlo =nx.compose_all([G_sijal, G_lampe])\n",
        " \n",
        "# GRAFOVI TAJMERA\n",
        "G_tajmeri = nx.MultiGraph()\n",
        "G_tajmeri.add_nodes_from(tajmeri, shape=\"circle\", size=10, weight=0.5, color=\"blue\")\n",
        " \n",
        "G_utik = nx.MultiGraph()\n",
        "G_utik.add_nodes_from(utik, shape=\"circle\", size=10, weight=0.5, color=\"blue\")\n",
        " \n",
        "G_tajm = nx.compose_all([G_tajmeri, G_utik])\n",
        " \n",
        "# GRAFOVI KAMERA\n",
        "G_kam = nx.MultiGraph()\n",
        "G_kam.add_nodes_from(kamere, shape=\"circle\", size=10, weight=0.5, color=\"blue\")\n",
        "\n",
        "# GRAFOVI PREKID\n",
        "G_prek = nx.MultiGraph()\n",
        "G_prek.add_nodes_from(prekid, shape=\"circle\", size=10, weight=0.5, color=\"blue\")\n",
        " \n",
        "# GRAFOVI SENZORA\n",
        "G_meteo = nx.MultiGraph()\n",
        "G_meteo.add_nodes_from(meteo, shape=\"circle\", size=10, weight=0.5, color=\"blue\")\n",
        " \n",
        "G_otvor = nx.MultiGraph()\n",
        "G_otvor.add_nodes_from(otvor, shape=\"triangle\", size=12, weight=0.3, color=\"red\")\n",
        " \n",
        "G_vibra = nx.MultiGraph()\n",
        "G_vibra.add_nodes_from(vibra, shape=\"circle\", size=10, weight=0.4, color=\"green\")\n",
        " \n",
        "G_pokret = nx.MultiGraph()\n",
        "G_pokret.add_nodes_from(pokret, shape=\"circle\", size=14, weight=0.5, color=\"yellow\")\n",
        " \n",
        "G_voda = nx.MultiGraph()\n",
        "G_voda.add_nodes_from(voda, shape=\"circle\", size=16, weight=0.6, color=\"blue\")\n",
        " \n",
        "G_senzori = nx.compose_all([G_meteo, G_otvor, G_vibra, G_pokret, G_voda])\n",
        " \n",
        "# SMART HOME GRAF\n",
        "G_smart = nx.compose_all([G_wifi, G_svetlo, G_tajm, G_kam, G_prek, G_senzori])"
      ],
      "execution_count": null,
      "outputs": []
    },
    {
      "cell_type": "markdown",
      "metadata": {
        "id": "vjgC9_nQM48F"
      },
      "source": [
        "SUBGRAFOVI"
      ]
    },
    {
      "cell_type": "code",
      "metadata": {
        "id": "M9MpfB47M-6E",
        "colab": {
          "base_uri": "https://localhost:8080/"
        },
        "outputId": "b833b2d1-c3e6-4f6e-b239-ce4f6298c339"
      },
      "source": [
        "# SUBGRAF STAN\n",
        "Sg_stan = G_smart.subgraph(stan)\n",
        "pp(list(Sg_stan.nodes(data=True)))\n",
        "\n",
        " \n",
        "# SUBGRAF GARAŽA\n",
        "Sg_gara = G_smart.subgraph(gara)\n",
        " \n",
        "# SUBGRAF CILA\n",
        "Sg_cila = G_smart.subgraph(cila)"
      ],
      "execution_count": null,
      "outputs": [
        {
          "output_type": "stream",
          "text": [
            "[('h_stan', {'color': 'blue', 'shape': 'circle', 'size': 10, 'weight': 0.5}),\n",
            " ('k_stan', {'color': 'blue', 'shape': 'circle', 'size': 10, 'weight': 0.5}),\n",
            " ('pr_kocka', {'color': 'blue', 'shape': 'circle', 'size': 10, 'weight': 0.5}),\n",
            " ('vo_stan', {'color': 'blue', 'shape': 'circle', 'size': 16, 'weight': 0.6}),\n",
            " ('r_stan', {'color': 'blue', 'shape': 'circle', 'size': 10, 'weight': 0.5}),\n",
            " ('m_terasa', {'color': 'blue', 'shape': 'circle', 'size': 10, 'weight': 0.5}),\n",
            " ('s_stan1', {'color': 'blue', 'shape': 'circle', 'size': 10, 'weight': 0.5}),\n",
            " ('ri_xiaomi', {'color': 'blue', 'shape': 'circle', 'size': 10, 'weight': 0.5}),\n",
            " ('s_stan3', {'color': 'blue', 'shape': 'circle', 'size': 10, 'weight': 0.5}),\n",
            " ('mo_stan', {'color': 'blue', 'shape': 'circle', 'size': 10, 'weight': 0.5}),\n",
            " ('r_telekom', {'color': 'blue', 'shape': 'circle', 'size': 10, 'weight': 0.5}),\n",
            " ('pr_stan', {'color': 'blue', 'shape': 'circle', 'size': 10, 'weight': 0.5}),\n",
            " ('a_A', {'color': 'blue', 'shape': 'circle', 'size': 10, 'weight': 0.5}),\n",
            " ('o_stan', {'color': 'red', 'shape': 'triangle', 'size': 12, 'weight': 0.3}),\n",
            " ('m_stan', {'color': 'blue', 'shape': 'circle', 'size': 10, 'weight': 0.5}),\n",
            " ('s_stan2', {'color': 'blue', 'shape': 'circle', 'size': 10, 'weight': 0.5}),\n",
            " ('l_stan', {'color': 'blue', 'shape': 'circle', 'size': 10, 'weight': 0.5})]\n"
          ],
          "name": "stdout"
        }
      ]
    },
    {
      "cell_type": "markdown",
      "metadata": {
        "id": "84ScgpX5ecAS"
      },
      "source": [
        "SPAJANJE NODOVA"
      ]
    },
    {
      "cell_type": "code",
      "metadata": {
        "colab": {
          "base_uri": "https://localhost:8080/"
        },
        "id": "Rbt64kLaelYK",
        "outputId": "f1ddaff5-6a2a-494b-847b-7f8c9cdd95ac"
      },
      "source": [
        " \n",
        "# ruteri\n",
        "G_smart.add_edge('r_telekom','r_stan', color=\"red\", weight=0.8)\n",
        "G_smart.add_edge('r_stan','h_stan', color=\"red\", weight=0.8)\n",
        "G_smart.add_edge('r_stan','a_A', color=\"red\", weight=0.8)\n",
        "G_smart.add_edge('a_A','a_B', color=\"red\", weight=0.8)\n",
        "G_smart.add_edge('a_B','r_gara', color=\"red\", weight=0.8)\n",
        "G_smart.add_edge('r_gara','h_gara', color=\"red\", weight=0.8)\n",
        "G_smart.add_edge('r_cila','h_cila', color=\"red\", weight=0.8)\n",
        " \n",
        " \n",
        "# senzori u stanu\n",
        "G_smart.add_edge('h_stan','m_stan', color=\"blue\", weight=0.6)\n",
        "G_smart.add_edge('h_stan','o_stan', color=\"red\", weight=0.4)\n",
        "G_smart.add_edge('h_stan','m_terasa', color=\"green\", weight=0.8)\n",
        "G_smart.add_edge('h_stan','vo_stan', color=\"black\", weight=0.3)\n",
        "G_smart.add_edge('h_stan','d_stan', color=\"black\", weight=0.3)\n",
        "\n",
        "G_smart.add_edge('h_stan','pr_kocka', color=\"red\", weight=0.4)\n",
        "G_smart.add_edge('h_stan','pr_stan', color=\"red\", weight=0.4)\n",
        "\n",
        "# ostalo stan\n",
        "G_smart.add_edge('h_stan','s_stan1', color=\"green\", weight=0.8)\n",
        "G_smart.add_edge('h_stan','s_stan2', color=\"green\", weight=0.8)\n",
        "G_smart.add_edge('h_stan','s_stan3', color=\"green\", weight=0.8)\n",
        "G_smart.add_edge('r_stan','l_stan', color=\"green\", weight=0.8)\n",
        "G_smart.add_edge('r_stan','k_stan', color=\"green\", weight=0.8)\n",
        "\n",
        " \n",
        " \n",
        "# senzori u garaži \n",
        "G_smart.add_edge('h_gara','m_gara', color=\"blue\", weight=0.6)\n",
        "G_smart.add_edge('h_gara','o_gara', color=\"red\", weight=0.4)\n",
        "G_smart.add_edge('h_gara','v_gara', color=\"green\", weight=0.8)\n",
        "G_smart.add_edge('h_gara','p_gara', color=\"green\", weight=0.8)\n",
        "# ostalo garaža\n",
        "G_smart.add_edge('h_gara','pr_gara', color=\"blue\", weight=0.6)\n",
        "G_smart.add_edge('r_gara','k_gara', color=\"red\", weight=0.4)\n",
        "G_smart.add_edge('r_gara','s_gara', color=\"green\", weight=0.8)\n",
        "G_smart.add_edge('r_gara','t_gara', color=\"green\", weight=0.8)\n",
        "G_smart.add_edge('r_gara','u_gara', color=\"green\", weight=0.8)\n",
        " \n",
        " \n",
        "# senzori kod Cile\n",
        "G_smart.add_edge('h_cila','m_cila1', color=\"blue\", weight=0.6)\n",
        "G_smart.add_edge('h_cila','m_cila2', color=\"red\", weight=0.4)\n",
        "G_smart.add_edge('h_cila','o_cila', color=\"blue\", weight=0.6)\n",
        "G_smart.add_edge('h_cila','v_cila', color=\"red\", weight=0.4)\n",
        "G_smart.add_edge('h_cila','d_cila', color=\"red\", weight=0.4)\n",
        "# ostalo cila\n",
        "G_smart.add_edge('r_cila','s_cila', color=\"blue\", weight=0.6)\n",
        "G_smart.add_edge('r_cila','k_cila', color=\"red\", weight=0.4)\n",
        "G_smart.add_edge('r_cila','t_cila_TA', color=\"blue\", weight=0.6)\n",
        "G_smart.add_edge('r_cila','t_cila', color=\"red\", weight=0.4)"
      ],
      "execution_count": null,
      "outputs": [
        {
          "output_type": "execute_result",
          "data": {
            "text/plain": [
              "0"
            ]
          },
          "metadata": {
            "tags": []
          },
          "execution_count": 79
        }
      ]
    },
    {
      "cell_type": "markdown",
      "metadata": {
        "id": "0FTBp_f8rcJF"
      },
      "source": [
        "\n",
        "\n",
        "\n",
        "\n",
        "GLEDANJE GRAFOVA"
      ]
    },
    {
      "cell_type": "code",
      "metadata": {
        "colab": {
          "base_uri": "https://localhost:8080/"
        },
        "id": "PjtR5ln2hOVB",
        "outputId": "8d54248f-392a-4fb5-cdfb-01bf3a82c5d4"
      },
      "source": [
        "pp(list(G_meteo.nodes(data=True)))\n",
        "print(len(G_meteo))\n",
        " \n",
        "pp(list(G_otvor.nodes(data=True)))\n",
        "print(len(G_otvor))\n",
        " \n",
        "pp(list(G_vibra.nodes(data=True)))\n",
        "print(len(G_vibra)) \n",
        " \n",
        "pp(list(G_senzori.nodes(data=True)))\n",
        "print(len(G_senzori))"
      ],
      "execution_count": null,
      "outputs": [
        {
          "output_type": "stream",
          "text": [
            "[('m_stan', {'color': 'blue', 'shape': 'circle', 'size': 10, 'weight': 0.5}),\n",
            " ('mo_stan', {'color': 'blue', 'shape': 'circle', 'size': 10, 'weight': 0.5}),\n",
            " ('m_terasa', {'color': 'blue', 'shape': 'circle', 'size': 10, 'weight': 0.5}),\n",
            " ('m_gara', {'color': 'blue', 'shape': 'circle', 'size': 10, 'weight': 0.5}),\n",
            " ('m_cila1', {'color': 'blue', 'shape': 'circle', 'size': 10, 'weight': 0.5}),\n",
            " ('m_cila2', {'color': 'blue', 'shape': 'circle', 'size': 10, 'weight': 0.5})]\n",
            "6\n",
            "[('o_stan', {'color': 'red', 'shape': 'triangle', 'size': 12, 'weight': 0.3}),\n",
            " ('o_gara', {'color': 'red', 'shape': 'triangle', 'size': 12, 'weight': 0.3}),\n",
            " ('o_cila', {'color': 'red', 'shape': 'triangle', 'size': 12, 'weight': 0.3})]\n",
            "3\n",
            "[('v_gara', {'color': 'green', 'shape': 'circle', 'size': 10, 'weight': 0.4}),\n",
            " ('v_cila', {'color': 'green', 'shape': 'circle', 'size': 10, 'weight': 0.4})]\n",
            "2\n",
            "[('m_stan', {'color': 'blue', 'shape': 'circle', 'size': 10, 'weight': 0.5}),\n",
            " ('mo_stan', {'color': 'blue', 'shape': 'circle', 'size': 10, 'weight': 0.5}),\n",
            " ('m_terasa', {'color': 'blue', 'shape': 'circle', 'size': 10, 'weight': 0.5}),\n",
            " ('m_gara', {'color': 'blue', 'shape': 'circle', 'size': 10, 'weight': 0.5}),\n",
            " ('m_cila1', {'color': 'blue', 'shape': 'circle', 'size': 10, 'weight': 0.5}),\n",
            " ('m_cila2', {'color': 'blue', 'shape': 'circle', 'size': 10, 'weight': 0.5}),\n",
            " ('o_stan', {'color': 'red', 'shape': 'triangle', 'size': 12, 'weight': 0.3}),\n",
            " ('o_gara', {'color': 'red', 'shape': 'triangle', 'size': 12, 'weight': 0.3}),\n",
            " ('o_cila', {'color': 'red', 'shape': 'triangle', 'size': 12, 'weight': 0.3}),\n",
            " ('v_gara', {'color': 'green', 'shape': 'circle', 'size': 10, 'weight': 0.4}),\n",
            " ('v_cila', {'color': 'green', 'shape': 'circle', 'size': 10, 'weight': 0.4}),\n",
            " ('p_gara', {'color': 'yellow', 'shape': 'circle', 'size': 14, 'weight': 0.5}),\n",
            " ('vo_stan', {'color': 'blue', 'shape': 'circle', 'size': 16, 'weight': 0.6})]\n",
            "13\n"
          ],
          "name": "stdout"
        }
      ]
    },
    {
      "cell_type": "markdown",
      "metadata": {
        "id": "RV1w-fw1MOfm"
      },
      "source": [
        ""
      ]
    },
    {
      "cell_type": "code",
      "metadata": {
        "colab": {
          "base_uri": "https://localhost:8080/"
        },
        "id": "Rwl7wKfB2URI",
        "outputId": "118045b7-1521-438d-f532-bf8fdc16dd01"
      },
      "source": [
        "senzori = [*meteo, *otvor, *vibra, *pokret, *voda]\n",
        "# pp(list(G_smart.nodes(data=True)))\n",
        "print(len(G_smart), ' nodova')\n",
        "# pp(list(G_smart.edges(data=True)))\n",
        "print(len(G_smart.edges()), ' veza')"
      ],
      "execution_count": null,
      "outputs": [
        {
          "output_type": "stream",
          "text": [
            "42  nodova\n",
            "37  veza\n"
          ],
          "name": "stdout"
        }
      ]
    },
    {
      "cell_type": "code",
      "metadata": {
        "colab": {
          "base_uri": "https://localhost:8080/",
          "height": 218
        },
        "id": "GmNgLxoIDsRK",
        "outputId": "537dc96b-5e33-41ec-c399-795786327b0f"
      },
      "source": [
        " \n",
        " \n",
        "#Crtanje sa mathplotlib\n",
        " \n",
        "# nx.draw(G_smart)\n",
        " \n",
        " \n",
        "pos = nx.kamada_kawai_layout(G_smart)\n",
        "nx.draw_networkx(G_smart, pos)\n",
        "plt.show()\n",
        " \n",
        "# pos1 = dot(G_smart)\n",
        "# pos1.show(block=False)\n",
        "# pp(dir(dot))\n",
        " \n",
        "# pos = nx.nx_pydot.graphviz_layout(G_smart)\n",
        "# nx.draw_networkx(G_smart, pos)\n",
        "## plt.savefig('networkx_graph.png')"
      ],
      "execution_count": null,
      "outputs": [
        {
          "output_type": "display_data",
          "data": {
            "image/png": "[encoded data removed]",
            "text/plain": [
              "<Figure size 432x288 with 1 Axes>"
            ]
          },
          "metadata": {
            "tags": []
          }
        }
      ]
    },
    {
      "cell_type": "code",
      "metadata": {
        "colab": {
          "base_uri": "https://localhost:8080/",
          "height": 319
        },
        "id": "UMFuc_HN1B-L",
        "outputId": "cdcadf3b-a4a5-4f8f-f221-2444dce9accd"
      },
      "source": [
        " \n",
        "# Crtanje sa graphviz\n",
        " \n",
        " \n",
        "pos = nx.nx_agraph.graphviz_layout(G_smart)\n",
        "# pos = nx.nx_agraph.dot_layout(G_smart)\n",
        "nx.draw(G_smart, pos=pos)\n",
        "# write_dot(G_smart, 'file.dot')"
      ],
      "execution_count": null,
      "outputs": [
        {
          "output_type": "display_data",
          "data": {
            "image/png": "[encoded data removed]",
            "text/plain": [
              "<Figure size 432x288 with 1 Axes>"
            ]
          },
          "metadata": {
            "tags": []
          }
        }
      ]
    },
    {
      "cell_type": "code",
      "metadata": {
        "colab": {
          "base_uri": "https://localhost:8080/",
          "height": 319
        },
        "id": "NBYvWk_O9qdj",
        "outputId": "bc9ea988-a23b-4840-ba8e-1e2d45da7a03"
      },
      "source": [
        " \n",
        "# import pydotplus as pdp\n",
        "# pp(list(dir(dot)))\n",
        " \n",
        "pos = nx.nx_pydot.pydot_layout(G_smart, prog=\"neato\")\n",
        "nx.draw(G_smart, pos=pos)\n",
        "# write_dot(G_smart, 'file.dot')"
      ],
      "execution_count": null,
      "outputs": [
        {
          "output_type": "display_data",
          "data": {
            "image/png": "[encoded data removed]",
            "text/plain": [
              "<Figure size 432x288 with 1 Axes>"
            ]
          },
          "metadata": {
            "tags": []
          }
        }
      ]
    },
    {
      "cell_type": "code",
      "metadata": {
        "id": "rjHpE9lRZjsB",
        "colab": {
          "base_uri": "https://localhost:8080/"
        },
        "outputId": "d8145fed-3cc7-4202-b765-653f05e64879"
      },
      "source": [
        "pp(list(dir(ding)))"
      ],
      "execution_count": null,
      "outputs": [
        {
          "output_type": "stream",
          "text": [
            "['DashInteractiveGraphviz',\n",
            " '_',\n",
            " '__all__',\n",
            " '__builtins__',\n",
            " '__cached__',\n",
            " '__doc__',\n",
            " '__file__',\n",
            " '__loader__',\n",
            " '__name__',\n",
            " '__package__',\n",
            " '__path__',\n",
            " '__spec__',\n",
            " '__version__',\n",
            " '_basepath',\n",
            " '_component',\n",
            " '_css_dist',\n",
            " '_current_path',\n",
            " '_dash',\n",
            " '_filepath',\n",
            " '_imports_',\n",
            " '_js_dist',\n",
            " '_os',\n",
            " '_sys',\n",
            " '_this_module',\n",
            " 'f',\n",
            " 'json',\n",
            " 'package',\n",
            " 'package_name']\n"
          ],
          "name": "stdout"
        }
      ]
    }
  ]
}