{
  "nbformat": 4,
  "nbformat_minor": 0,
  "metadata": {
    "colab": {
      "name": "Smart Home",
      "provenance": [],
      "collapsed_sections": [],
      "authorship_tag": "ABX9TyOxgJ0jdTSbzcZGHSGMrEWo",
      "include_colab_link": true
    },
    "kernelspec": {
      "display_name": "Python 3",
      "name": "python3"
    }
  },
  "cells": [
    {
      "cell_type": "markdown",
      "metadata": {
        "id": "view-in-github",
        "colab_type": "text"
      },
      "source": [
        "<a href=\"https://colab.research.google.com/github/cira037/jupy-graph/blob/main/Smart_Home.ipynb\" target=\"_parent\"><img src=\"https://colab.research.google.com/assets/colab-badge.svg\" alt=\"Open In Colab\"/></a>"
      ]
    },
    {
      "cell_type": "markdown",
      "metadata": {
        "id": "WhwYRzQAMSFT"
      },
      "source": [
        "INSTALACIJA"
      ]
    },
    {
      "cell_type": "code",
      "metadata": {
        "id": "J4ZvwWd9ISYG"
      },
      "source": [
        " \n",
        "!apt install libgraphviz-dev \n",
        "!apt install pkg-config\n",
        "!apt install python-dev\n",
        "# !apt install d3-graphviz\n",
        "# !apt install dash\n",
        " \n",
        "!pip install networkx pydot graphviz\n",
        "!pip install pydotplus\n",
        "!pip install pygraphviz\n",
        "!pip install pydot\n",
        "!pip install dash-interactive-graphviz\n",
        "!pip install dash"
      ],
      "execution_count": null,
      "outputs": []
    },
    {
      "cell_type": "markdown",
      "metadata": {
        "id": "SRf8DEQYaddV"
      },
      "source": [
        " IMPORTOVANJE"
      ]
    },
    {
      "cell_type": "code",
      "metadata": {
        "id": "R2D91RaGIw3B"
      },
      "source": [
        " \n",
        "from pprint import pprint as pp\n",
        "import networkx as nx\n",
        "from networkx.drawing.nx_pydot import write_dot\n",
        "import graphviz as gv\n",
        "from graphviz import Digraph as dg\n",
        "import pydot as dot\n",
        "import matplotlib.pyplot as plt\n",
        "import dash_interactive_graphviz as ding"
      ],
      "execution_count": null,
      "outputs": []
    },
    {
      "cell_type": "markdown",
      "metadata": {
        "id": "Cr1ZCV88UqE4"
      },
      "source": [
        " IOT spisak"
      ]
    },
    {
      "cell_type": "code",
      "metadata": {
        "id": "0afVJqcpMNsa"
      },
      "source": [
        " \n",
        " \n",
        "# WiFi\n",
        "ruteri = ['r_telekom','r_stan','r_gara','r_cila']\n",
        "habovi = ['h_stan','h_gara','h_cila']\n",
        "antene = ['a_A','a_B']\n",
        "ripiteri = ['r_gara', 'r_xiaomi']\n",
        " \n",
        "# SVETLA\n",
        "sijalice = ['s_stan1','s_stan2', 's_stan3', 's_gara', 's_cila']\n",
        "lampe = ['l_stan']\n",
        " \n",
        "# TAJMERI\n",
        "tajmeri = ['t_gara', 't_cila_TA', 't_cila']\n",
        "utik = ['u_gara']\n",
        " \n",
        "# KAMERE\n",
        "kamere = ['k_stan','k_gara','k_cila']\n",
        " \n",
        "# PREKIDAČI\n",
        "prekid = ['pr_kocka', 'pr_stan', 'pr_gara']\n",
        " \n",
        "# SENZORI\n",
        "meteo = ['m_stan','m_terasa','m_gara','m_cila1','m_cila2'] # 'm_okrugli'\n",
        "otvor = ['o_stan','o_gara','o_cila']\n",
        "vibra = ['v_gara', 'v_cila']\n",
        "pokret = ['p_gara']\n",
        "voda = ['vo_stan']\n",
        "senzori = (*meteo, *otvor, *vibra, *pokret, *voda)"
      ],
      "execution_count": null,
      "outputs": []
    },
    {
      "cell_type": "markdown",
      "metadata": {
        "id": "BYUyGl9pYWYC"
      },
      "source": [
        "PRAVLJENJE GRAFOVA"
      ]
    },
    {
      "cell_type": "code",
      "metadata": {
        "id": "v6_eBMhgJY1U"
      },
      "source": [
        "# GRAFOVI WIFI\n",
        "G_ruter = nx.MultiGraph()\n",
        "G_ruter.add_nodes_from(ruteri, shape=\"circle\", size=10, weight=0.5, color=\"blue\")\n",
        " \n",
        "G_hab = nx.MultiGraph()\n",
        "G_hab.add_nodes_from(habovi, shape=\"circle\", size=10, weight=0.5, color=\"blue\")\n",
        " \n",
        "G_ant = nx.MultiGraph()\n",
        "G_ant.add_nodes_from(antene, shape=\"circle\", size=10, weight=0.5, color=\"blue\")\n",
        " \n",
        "G_ripit = nx.MultiGraph()\n",
        "G_ripit.add_nodes_from(ripiteri, shape=\"circle\", size=10, weight=0.5, color=\"blue\")\n",
        " \n",
        "G_wifi =nx.compose_all([G_ruter, G_hab, G_ant, G_ripit])\n",
        " \n",
        "# GRAFOVI SVETLA\n",
        "G_sijal = nx.MultiGraph()\n",
        "G_sijal.add_nodes_from(sijalice, shape=\"circle\", size=10, weight=0.5, color=\"blue\")\n",
        " \n",
        "G_lampe = nx.MultiGraph()\n",
        "G_lampe.add_nodes_from(lampe, shape=\"circle\", size=10, weight=0.5, color=\"blue\")\n",
        " \n",
        "G_svetlo =nx.compose_all([G_sijal, G_lampe])\n",
        " \n",
        "# GRAFOVI TAJMERA\n",
        "G_tajmeri = nx.MultiGraph()\n",
        "G_tajmeri.add_nodes_from(tajmeri, shape=\"circle\", size=10, weight=0.5, color=\"blue\")\n",
        " \n",
        "G_utik = nx.MultiGraph()\n",
        "G_utik.add_nodes_from(utik, shape=\"circle\", size=10, weight=0.5, color=\"blue\")\n",
        " \n",
        "G_tajm = nx.compose_all([G_tajmeri, G_utik])\n",
        " \n",
        "# GRAFOVI KAMERA\n",
        "G_kam = nx.MultiGraph()\n",
        "G_kam.add_nodes_from(kamere, shape=\"circle\", size=10, weight=0.5, color=\"blue\")\n",
        "\n",
        "# GRAFOVI PREKID\n",
        "G_prek = nx.MultiGraph()\n",
        "G_prek.add_nodes_from(prekid, shape=\"circle\", size=10, weight=0.5, color=\"blue\")\n",
        " \n",
        "# GRAFOVI SENZORA\n",
        "G_meteo = nx.MultiGraph()\n",
        "G_meteo.add_nodes_from(meteo, shape=\"circle\", size=10, weight=0.5, color=\"blue\")\n",
        " \n",
        "G_otvor = nx.MultiGraph()\n",
        "G_otvor.add_nodes_from(otvor, shape=\"triangle\", size=12, weight=0.3, color=\"red\")\n",
        " \n",
        "G_vibra = nx.MultiGraph()\n",
        "G_vibra.add_nodes_from(vibra, shape=\"circle\", size=10, weight=0.4, color=\"green\")\n",
        " \n",
        "G_pokret = nx.MultiGraph()\n",
        "G_pokret.add_nodes_from(pokret, shape=\"circle\", size=14, weight=0.5, color=\"yellow\")\n",
        " \n",
        "G_voda = nx.MultiGraph()\n",
        "G_voda.add_nodes_from(voda, shape=\"circle\", size=16, weight=0.6, color=\"blue\")\n",
        " \n",
        "G_senzori = nx.compose_all([G_meteo, G_otvor, G_vibra, G_pokret, G_voda])\n",
        " \n",
        "# SMART HOME GRAF\n",
        "G_smart = nx.compose_all([G_wifi, G_svetlo, G_tajm, G_kam, G_prek, G_senzori])"
      ],
      "execution_count": null,
      "outputs": []
    },
    {
      "cell_type": "markdown",
      "metadata": {
        "id": "vjgC9_nQM48F"
      },
      "source": [
        "SUBGRAFOVI"
      ]
    },
    {
      "cell_type": "code",
      "metadata": {
        "id": "M9MpfB47M-6E"
      },
      "source": [
        "# SUBGRAF STAN\n",
        " \n",
        "# SUBGRAF GARAŽA\n",
        " \n",
        "# SUBGRAF CILA"
      ],
      "execution_count": null,
      "outputs": []
    },
    {
      "cell_type": "markdown",
      "metadata": {
        "id": "84ScgpX5ecAS"
      },
      "source": [
        "SPAJANJE NODOVA"
      ]
    },
    {
      "cell_type": "code",
      "metadata": {
        "colab": {
          "base_uri": "https://localhost:8080/"
        },
        "id": "Rbt64kLaelYK",
        "outputId": "fa976da1-08e6-4ff2-8a9b-548393a13eec"
      },
      "source": [
        " \n",
        "# ruteri\n",
        "G_smart.add_edge('r_telekom','r_stan', color=\"red\", weight=0.8)\n",
        "G_smart.add_edge('r_stan','h_stan', color=\"red\", weight=0.8)\n",
        "G_smart.add_edge('r_stan','a_A', color=\"red\", weight=0.8)\n",
        "G_smart.add_edge('a_A','a_B', color=\"red\", weight=0.8)\n",
        "G_smart.add_edge('a_B','r_gara', color=\"red\", weight=0.8)\n",
        "G_smart.add_edge('r_gara','h_gara', color=\"red\", weight=0.8)\n",
        "G_smart.add_edge('r_cila','h_cila', color=\"red\", weight=0.8)\n",
        " \n",
        " \n",
        "# senzori u stanu\n",
        "G_smart.add_edge('h_stan','m_stan', color=\"blue\", weight=0.6)\n",
        "G_smart.add_edge('h_stan','o_stan', color=\"red\", weight=0.4)\n",
        "G_smart.add_edge('h_stan','m_terasa', color=\"green\", weight=0.8)\n",
        "G_smart.add_edge('h_stan','vo_stan', color=\"black\", weight=0.3)\n",
        "# ostalo stan\n",
        " \n",
        " \n",
        "# senzori u garaži \n",
        "G_smart.add_edge('h_gara','m_gara', color=\"blue\", weight=0.6)\n",
        "G_smart.add_edge('h_gara','o_gara', color=\"red\", weight=0.4)\n",
        "G_smart.add_edge('h_gara','v_gara', color=\"green\", weight=0.8)\n",
        "G_smart.add_edge('h_gara','p_gara', color=\"green\", weight=0.8)\n",
        "# ostalo garaža\n",
        "G_smart.add_edge('h_gara','pr_gara', color=\"blue\", weight=0.6)\n",
        "G_smart.add_edge('r_gara','k_gara', color=\"red\", weight=0.4)\n",
        "G_smart.add_edge('r_gara','s_gara', color=\"green\", weight=0.8)\n",
        "G_smart.add_edge('r_gara','t_gara', color=\"green\", weight=0.8)\n",
        "G_smart.add_edge('r_gara','u_gara', color=\"green\", weight=0.8)\n",
        " \n",
        " \n",
        "# senzori kod Cile\n",
        "G_smart.add_edge('h_cila','m_cila1', color=\"blue\", weight=0.6)\n",
        "G_smart.add_edge('h_cila','m_cila2', color=\"red\", weight=0.4)\n",
        "G_smart.add_edge('h_cila','o_cila', color=\"blue\", weight=0.6)\n",
        "G_smart.add_edge('h_cila','v_cila', color=\"red\", weight=0.4)\n",
        "# ostalo cila\n",
        "G_smart.add_edge('r_cila','s_cila', color=\"blue\", weight=0.6)\n",
        "G_smart.add_edge('r_cila','k_cila', color=\"red\", weight=0.4)\n",
        "G_smart.add_edge('r_cila','t_cila_TA', color=\"blue\", weight=0.6)\n",
        "G_smart.add_edge('r_cila','t_cila', color=\"red\", weight=0.4)"
      ],
      "execution_count": null,
      "outputs": [
        {
          "output_type": "execute_result",
          "data": {
            "text/plain": [
              "0"
            ]
          },
          "metadata": {
            "tags": []
          },
          "execution_count": 7
        }
      ]
    },
    {
      "cell_type": "markdown",
      "metadata": {
        "id": "0FTBp_f8rcJF"
      },
      "source": [
        "\n",
        "\n",
        "\n",
        "\n",
        "GLEDANJE GRAFOVA"
      ]
    },
    {
      "cell_type": "code",
      "metadata": {
        "colab": {
          "base_uri": "https://localhost:8080/"
        },
        "id": "PjtR5ln2hOVB",
        "outputId": "345606fa-22fe-4196-a978-c349f9a1b9a7"
      },
      "source": [
        "pp(list(G_meteo.nodes(data=True)))\n",
        "print(len(G_meteo))\n",
        " \n",
        "pp(list(G_otvor.nodes(data=True)))\n",
        "print(len(G_otvor))\n",
        " \n",
        "pp(list(G_vibra.nodes(data=True)))\n",
        "print(len(G_vibra)) \n",
        " \n",
        "pp(list(G_senzori.nodes(data=True)))\n",
        "print(len(G_senzori))"
      ],
      "execution_count": null,
      "outputs": [
        {
          "output_type": "stream",
          "text": [
            "[('m_stan', {'color': 'blue', 'shape': 'circle', 'size': 10, 'weight': 0.5}),\n",
            " ('m_terasa', {'color': 'blue', 'shape': 'circle', 'size': 10, 'weight': 0.5}),\n",
            " ('m_gara', {'color': 'blue', 'shape': 'circle', 'size': 10, 'weight': 0.5}),\n",
            " ('m_cila1', {'color': 'blue', 'shape': 'circle', 'size': 10, 'weight': 0.5}),\n",
            " ('m_cila2', {'color': 'blue', 'shape': 'circle', 'size': 10, 'weight': 0.5})]\n",
            "5\n",
            "[('o_stan', {'color': 'red', 'shape': 'triangle', 'size': 12, 'weight': 0.3}),\n",
            " ('o_gara', {'color': 'red', 'shape': 'triangle', 'size': 12, 'weight': 0.3}),\n",
            " ('o_cila', {'color': 'red', 'shape': 'triangle', 'size': 12, 'weight': 0.3})]\n",
            "3\n",
            "[('v_gara', {'color': 'green', 'shape': 'circle', 'size': 10, 'weight': 0.4}),\n",
            " ('v_cila', {'color': 'green', 'shape': 'circle', 'size': 10, 'weight': 0.4})]\n",
            "2\n",
            "[('m_stan', {'color': 'blue', 'shape': 'circle', 'size': 10, 'weight': 0.5}),\n",
            " ('m_terasa', {'color': 'blue', 'shape': 'circle', 'size': 10, 'weight': 0.5}),\n",
            " ('m_gara', {'color': 'blue', 'shape': 'circle', 'size': 10, 'weight': 0.5}),\n",
            " ('m_cila1', {'color': 'blue', 'shape': 'circle', 'size': 10, 'weight': 0.5}),\n",
            " ('m_cila2', {'color': 'blue', 'shape': 'circle', 'size': 10, 'weight': 0.5}),\n",
            " ('o_stan', {'color': 'red', 'shape': 'triangle', 'size': 12, 'weight': 0.3}),\n",
            " ('o_gara', {'color': 'red', 'shape': 'triangle', 'size': 12, 'weight': 0.3}),\n",
            " ('o_cila', {'color': 'red', 'shape': 'triangle', 'size': 12, 'weight': 0.3}),\n",
            " ('v_gara', {'color': 'green', 'shape': 'circle', 'size': 10, 'weight': 0.4}),\n",
            " ('v_cila', {'color': 'green', 'shape': 'circle', 'size': 10, 'weight': 0.4}),\n",
            " ('p_gara', {'color': 'yellow', 'shape': 'circle', 'size': 14, 'weight': 0.5}),\n",
            " ('vo_stan', {'color': 'blue', 'shape': 'circle', 'size': 16, 'weight': 0.6})]\n",
            "12\n"
          ],
          "name": "stdout"
        }
      ]
    },
    {
      "cell_type": "markdown",
      "metadata": {
        "id": "RV1w-fw1MOfm"
      },
      "source": [
        ""
      ]
    },
    {
      "cell_type": "code",
      "metadata": {
        "colab": {
          "base_uri": "https://localhost:8080/"
        },
        "id": "Rwl7wKfB2URI",
        "outputId": "a24f3fe3-a1c7-42d4-d8e6-1eb122ed8ba8"
      },
      "source": [
        "senzori = [*meteo, *otvor, *vibra, *pokret, *voda]\n",
        "# pp(list(G_smart.nodes(data=True)))\n",
        "len(G_smart)\n",
        "# pp(list(G_smart.edges(data=True)))\n",
        "len(G_smart.edges())"
      ],
      "execution_count": null,
      "outputs": [
        {
          "output_type": "execute_result",
          "data": {
            "text/plain": [
              "28"
            ]
          },
          "metadata": {
            "tags": []
          },
          "execution_count": 9
        }
      ]
    },
    {
      "cell_type": "code",
      "metadata": {
        "colab": {
          "base_uri": "https://localhost:8080/",
          "height": 54
        },
        "id": "GmNgLxoIDsRK",
        "outputId": "627ff1c6-4dc6-4020-cd01-fe490dc68db0"
      },
      "source": [
        "\n",
        "\n",
        "#Crtanje sa mathplotlib\n",
        "\n",
        "# nx.draw(G_smart)\n",
        " \n",
        " \n",
        "pos = nx.spring_layout(G_smart)\n",
        "nx.draw_networkx(G_smart, pos)\n",
        "plt.show()\n",
        " \n",
        "# pos1 = dot(G_smart)\n",
        "# pos1.show(block=False)\n",
        "# pp(dir(dot))\n",
        " \n",
        "# pos = nx.nx_pydot.graphviz_layout(G_smart)\n",
        "# nx.draw_networkx(G_smart, pos)\n",
        "## plt.savefig('networkx_graph.png')"
      ],
      "execution_count": null,
      "outputs": [
        {
          "output_type": "display_data",
          "data": {
            "image/png": "[encoded data removed]",
            "text/plain": [
              "<Figure size 432x288 with 1 Axes>"
            ]
          },
          "metadata": {
            "tags": []
          }
        }
      ]
    },
    {
      "cell_type": "code",
      "metadata": {
        "colab": {
          "base_uri": "https://localhost:8080/",
          "height": 319
        },
        "id": "UMFuc_HN1B-L",
        "outputId": "e0a5a780-c5f7-453b-9436-1554272f43c1"
      },
      "source": [
        " \n",
        "# Crtanje sa graphviz\n",
        " \n",
        " \n",
        "pos = nx.nx_agraph.graphviz_layout(G_smart)\n",
        "# pos = nx.nx_agraph.dot_layout(G_smart)\n",
        "nx.draw(G_smart, pos=pos)\n",
        "# write_dot(G_smart, 'file.dot')"
      ],
      "execution_count": null,
      "outputs": [
        {
          "output_type": "display_data",
          "data": {
            "image/png": "[encoded data removed]",
            "text/plain": [
              "<Figure size 432x288 with 1 Axes>"
            ]
          },
          "metadata": {
            "tags": []
          }
        }
      ]
    },
    {
      "cell_type": "code",
      "metadata": {
        "colab": {
          "base_uri": "https://localhost:8080/",
          "height": 319
        },
        "id": "NBYvWk_O9qdj",
        "outputId": "8eaed32e-343b-43ba-d63a-8d63c3838405"
      },
      "source": [
        " \n",
        "# import pydotplus as pdp\n",
        "# pp(list(dir(dot)))\n",
        " \n",
        "pos = nx.nx_pydot.pydot_layout(G_smart, prog=\"neato\")\n",
        "nx.draw(G_smart, pos=pos)\n",
        "# write_dot(G_smart, 'file.dot')"
      ],
      "execution_count": null,
      "outputs": [
        {
          "output_type": "display_data",
          "data": {
            "image/png": "[encoded data removed]",
            "text/plain": [
              "<Figure size 432x288 with 1 Axes>"
            ]
          },
          "metadata": {
            "tags": []
          }
        }
      ]
    },
    {
      "cell_type": "code",
      "metadata": {
        "id": "rjHpE9lRZjsB",
        "colab": {
          "base_uri": "https://localhost:8080/"
        },
        "outputId": "7fd37b8e-62f9-46c5-8a3b-ee6f5598e4bb"
      },
      "source": [
        "pp(list(dir(ding)))"
      ],
      "execution_count": null,
      "outputs": [
        {
          "output_type": "stream",
          "text": [
            "['DashInteractiveGraphviz',\n",
            " '_',\n",
            " '__all__',\n",
            " '__builtins__',\n",
            " '__cached__',\n",
            " '__doc__',\n",
            " '__file__',\n",
            " '__loader__',\n",
            " '__name__',\n",
            " '__package__',\n",
            " '__path__',\n",
            " '__spec__',\n",
            " '__version__',\n",
            " '_basepath',\n",
            " '_component',\n",
            " '_css_dist',\n",
            " '_current_path',\n",
            " '_dash',\n",
            " '_filepath',\n",
            " '_imports_',\n",
            " '_js_dist',\n",
            " '_os',\n",
            " '_sys',\n",
            " '_this_module',\n",
            " 'f',\n",
            " 'json',\n",
            " 'package',\n",
            " 'package_name']\n"
          ],
          "name": "stdout"
        }
      ]
    }
  ]
}